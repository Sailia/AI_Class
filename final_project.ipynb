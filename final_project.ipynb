{
 "cells": [
  {
   "cell_type": "code",
   "execution_count": null,
   "metadata": {},
   "outputs": [],
   "source": [
    "'''\n",
    "The goal of this program is to predict whether a student will get good or bad grades based on their attributes. \n",
    "These attributes are the column names in the given csv data and are as follows: \n",
    "\n",
    "gender \n",
    "race/ethnicity \n",
    "parental level of education\n",
    "lunch\n",
    "test preparation course\n",
    "math score \n",
    "reading score\n",
    "writing score\n",
    "\n",
    "The data is named Student Performance in Exams from the website Kaggle. \n",
    "The data can be downloaded here: https://www.kaggle.com/spscientist/students-performance-in-exams\n",
    "'''"
   ]
  },
  {
   "cell_type": "code",
   "execution_count": null,
   "metadata": {},
   "outputs": [],
   "source": []
  },
  {
   "cell_type": "code",
   "execution_count": 162,
   "metadata": {},
   "outputs": [
    {
     "ename": "ValueError",
     "evalue": "too many values to unpack (expected 2)",
     "output_type": "error",
     "traceback": [
      "\u001b[0;31m---------------------------------------------------------------------------\u001b[0m",
      "\u001b[0;31mValueError\u001b[0m                                Traceback (most recent call last)",
      "\u001b[0;32m<ipython-input-162-bc05836f5d07>\u001b[0m in \u001b[0;36m<module>\u001b[0;34m\u001b[0m\n\u001b[1;32m     18\u001b[0m         \u001b[0mtotal_math_scores\u001b[0m \u001b[0;34m+=\u001b[0m \u001b[0mmath_score\u001b[0m  \u001b[0;31m# get the total math score for calculating the mean\u001b[0m\u001b[0;34m\u001b[0m\u001b[0;34m\u001b[0m\u001b[0m\n\u001b[1;32m     19\u001b[0m         \u001b[0mlength\u001b[0m \u001b[0;34m+=\u001b[0m \u001b[0;36m1\u001b[0m\u001b[0;34m\u001b[0m\u001b[0;34m\u001b[0m\u001b[0m\n\u001b[0;32m---> 20\u001b[0;31m         \u001b[0mprint\u001b[0m\u001b[0;34m(\u001b[0m\u001b[0mprobability_x_given_y\u001b[0m\u001b[0;34m(\u001b[0m\u001b[0mcsv_dict\u001b[0m\u001b[0;34m,\u001b[0m \u001b[0mis_group_a\u001b[0m\u001b[0;34m(\u001b[0m\u001b[0mrow\u001b[0m\u001b[0;34m)\u001b[0m\u001b[0;34m,\u001b[0m \u001b[0mabove_average\u001b[0m\u001b[0;34m(\u001b[0m\u001b[0mrow\u001b[0m\u001b[0;34m,\u001b[0m \u001b[0mmean\u001b[0m\u001b[0;34m)\u001b[0m\u001b[0;34m)\u001b[0m\u001b[0;34m)\u001b[0m\u001b[0;34m\u001b[0m\u001b[0;34m\u001b[0m\u001b[0m\n\u001b[0m\u001b[1;32m     21\u001b[0m \u001b[0;34m\u001b[0m\u001b[0m\n\u001b[1;32m     22\u001b[0m     \u001b[0mmean\u001b[0m \u001b[0;34m=\u001b[0m \u001b[0mtotal_math_scores\u001b[0m \u001b[0;34m/\u001b[0m \u001b[0mlength\u001b[0m\u001b[0;34m\u001b[0m\u001b[0;34m\u001b[0m\u001b[0m\n",
      "\u001b[0;32m<ipython-input-160-403282336fd3>\u001b[0m in \u001b[0;36mprobability_x_given_y\u001b[0;34m(csv_dict, x, y)\u001b[0m\n\u001b[1;32m      1\u001b[0m \u001b[0;32mdef\u001b[0m \u001b[0mprobability_x_given_y\u001b[0m\u001b[0;34m(\u001b[0m\u001b[0mcsv_dict\u001b[0m\u001b[0;34m,\u001b[0m \u001b[0mx\u001b[0m\u001b[0;34m,\u001b[0m \u001b[0my\u001b[0m\u001b[0;34m)\u001b[0m\u001b[0;34m:\u001b[0m\u001b[0;34m\u001b[0m\u001b[0;34m\u001b[0m\u001b[0m\n\u001b[1;32m      2\u001b[0m     \u001b[0mcount\u001b[0m \u001b[0;34m=\u001b[0m \u001b[0;36m0\u001b[0m\u001b[0;34m\u001b[0m\u001b[0;34m\u001b[0m\u001b[0m\n\u001b[0;32m----> 3\u001b[0;31m     \u001b[0;32mfor\u001b[0m \u001b[0mx\u001b[0m\u001b[0;34m,\u001b[0m \u001b[0my\u001b[0m \u001b[0;32min\u001b[0m \u001b[0mcsv_dict\u001b[0m\u001b[0;34m:\u001b[0m\u001b[0;34m\u001b[0m\u001b[0;34m\u001b[0m\u001b[0m\n\u001b[0m\u001b[1;32m      4\u001b[0m         \u001b[0;32mif\u001b[0m\u001b[0;34m(\u001b[0m\u001b[0mx_given_y\u001b[0m\u001b[0;34m(\u001b[0m\u001b[0mx\u001b[0m\u001b[0;34m,\u001b[0m \u001b[0my\u001b[0m\u001b[0;34m)\u001b[0m\u001b[0;34m)\u001b[0m\u001b[0;34m:\u001b[0m\u001b[0;34m\u001b[0m\u001b[0;34m\u001b[0m\u001b[0m\n\u001b[1;32m      5\u001b[0m             \u001b[0mcount\u001b[0m \u001b[0;34m+=\u001b[0m \u001b[0;36m1\u001b[0m\u001b[0;34m\u001b[0m\u001b[0;34m\u001b[0m\u001b[0m\n",
      "\u001b[0;31mValueError\u001b[0m: too many values to unpack (expected 2)"
     ]
    }
   ],
   "source": [
    "# Here we open the csv file and read from it as a dictionary. While reading it in, \n",
    "# we are also gathering the minimum and maximum math score, and the average math score\n",
    "\n",
    "import csv\n",
    "import statistics as std\n",
    "\n",
    "\n",
    "with open('StudentsPerformance.csv', 'r') as file:\n",
    "    csv_dict = csv.DictReader(file)\n",
    "    total_math_scores = 0\n",
    "    length = 0\n",
    "    mean = 0\n",
    "    math_score_list = []\n",
    "    avg_prob = 0\n",
    "\n",
    "    for row in csv_dict: \n",
    "        math_score_list = append_math_score(row, math_score_list)\n",
    "        total_math_scores += math_score  # get the total math score for calculating the mean\n",
    "        length += 1\n",
    "        \n",
    "    mean = total_math_scores / length\n",
    "    a_avg = 'a_avg'\n",
    "    a_grp = 'a_grp'\n",
    "    probability_x_given_y(csv_dict, a_grp, a_avg, length)\n",
    "\n",
    "\n",
    "stan = std.stdev(math_score_list)\n",
    "# print(mean)\n",
    "# print(stan)\n",
    "print(avg_prob)"
   ]
  },
  {
   "cell_type": "code",
   "execution_count": 160,
   "metadata": {},
   "outputs": [],
   "source": [
    "def probability_x_given_y(csv_dict, x, y, length):\n",
    "    count = 0\n",
    "    if(x == 'a_grp', and y == 'a_avg')\n",
    "        for row in csv_dict:\n",
    "            if(x_given_y(is_group_a(row), above_average(row))):\n",
    "                count += 1\n",
    "    return count"
   ]
  },
  {
   "cell_type": "code",
   "execution_count": 145,
   "metadata": {},
   "outputs": [],
   "source": [
    "# is x given y true?\n",
    "\n",
    "def x_given_y(x, y):\n",
    "    return x and y\n"
   ]
  },
  {
   "cell_type": "code",
   "execution_count": 151,
   "metadata": {},
   "outputs": [],
   "source": [
    "# generate math score list for the standard deviation method\n",
    "\n",
    "def append_math_score(row, score_list):\n",
    "    math_score = int(row['math score'])\n",
    "    score_list.append(math_score)\n",
    "    return score_list"
   ]
  },
  {
   "cell_type": "code",
   "execution_count": null,
   "metadata": {},
   "outputs": [],
   "source": [
    "# return standard deviation of math scores\n",
    "\n",
    "def standard_deviation(scores):\n",
    "    stan = std.stdev(scores)\n",
    "    return stan"
   ]
  },
  {
   "cell_type": "code",
   "execution_count": 147,
   "metadata": {},
   "outputs": [],
   "source": [
    "def above_average(row, mean):\n",
    "    above = int(row['math score'])\n",
    "    return above >= mean"
   ]
  },
  {
   "cell_type": "code",
   "execution_count": 134,
   "metadata": {},
   "outputs": [],
   "source": [
    "def below_average(row, mean):\n",
    "    below = int(row['math score'])\n",
    "    return below < mean"
   ]
  },
  {
   "cell_type": "code",
   "execution_count": 146,
   "metadata": {},
   "outputs": [],
   "source": [
    "# race/ethnicity is group A\n",
    "\n",
    "def is_group_a(row):\n",
    "    group = row['race/ethnicity']\n",
    "    return group == 'group A'\n"
   ]
  },
  {
   "cell_type": "code",
   "execution_count": 127,
   "metadata": {},
   "outputs": [
    {
     "data": {
      "text/plain": [
       "True"
      ]
     },
     "execution_count": 127,
     "metadata": {},
     "output_type": "execute_result"
    }
   ],
   "source": [
    "def is_group_b(row):\n",
    "    group = row['race/ethnicity']\n",
    "    return group == 'group B'"
   ]
  },
  {
   "cell_type": "code",
   "execution_count": null,
   "metadata": {},
   "outputs": [],
   "source": [
    "def is_group_c(row):\n",
    "    group = row['race/ethnicity']\n",
    "    return group == 'group C'"
   ]
  },
  {
   "cell_type": "code",
   "execution_count": null,
   "metadata": {},
   "outputs": [],
   "source": [
    "def is_group_d(row):\n",
    "    group = row['race/ethnicity']\n",
    "    return group == 'group D'"
   ]
  },
  {
   "cell_type": "code",
   "execution_count": null,
   "metadata": {},
   "outputs": [],
   "source": [
    "def is_group_e(row):\n",
    "    group = row['race/ethnicity']\n",
    "    return group == 'group E'"
   ]
  },
  {
   "cell_type": "code",
   "execution_count": null,
   "metadata": {},
   "outputs": [],
   "source": [
    "def is_female(row):\n",
    "    female = row['gender']\n",
    "    return female == 'female'"
   ]
  },
  {
   "cell_type": "code",
   "execution_count": null,
   "metadata": {},
   "outputs": [],
   "source": [
    "def parents_bachelors_degree(row):\n",
    "    education = row['parental_level_of_education']\n",
    "    return education == \"bachelor's degree\""
   ]
  },
  {
   "cell_type": "code",
   "execution_count": null,
   "metadata": {},
   "outputs": [],
   "source": [
    "def parents_masters(row):\n",
    "    education = row['parental_level_of_education']\n",
    "    return education == \"master's degree\""
   ]
  },
  {
   "cell_type": "code",
   "execution_count": null,
   "metadata": {},
   "outputs": [],
   "source": [
    "def parents_some_college(row):\n",
    "    education = row['parental_level_of_education']\n",
    "    return education == 'some college'"
   ]
  },
  {
   "cell_type": "code",
   "execution_count": null,
   "metadata": {},
   "outputs": [],
   "source": [
    "def parents_high_school(row):\n",
    "    education = row['parental_level_of_education']\n",
    "    return education == 'high school'"
   ]
  },
  {
   "cell_type": "code",
   "execution_count": null,
   "metadata": {},
   "outputs": [],
   "source": [
    "def parents_associates(row):\n",
    "    education = row['parental_level_of_education']\n",
    "    return education == \"associates degree\""
   ]
  },
  {
   "cell_type": "code",
   "execution_count": 122,
   "metadata": {},
   "outputs": [],
   "source": [
    "def free_lunch(row):\n",
    "    free = row['lunch']\n",
    "    return free == 'free/reduced'"
   ]
  },
  {
   "cell_type": "code",
   "execution_count": 124,
   "metadata": {},
   "outputs": [
    {
     "name": "stdout",
     "output_type": "stream",
     "text": [
      "31\n"
     ]
    }
   ],
   "source": [
    "def prep_course(row):\n",
    "    prep = row['test preparation course']\n",
    "    return prep == 'completed'"
   ]
  },
  {
   "cell_type": "code",
   "execution_count": null,
   "metadata": {},
   "outputs": [],
   "source": []
  }
 ],
 "metadata": {
  "kernelspec": {
   "display_name": "Python 3",
   "language": "python",
   "name": "python3"
  },
  "language_info": {
   "codemirror_mode": {
    "name": "ipython",
    "version": 3
   },
   "file_extension": ".py",
   "mimetype": "text/x-python",
   "name": "python",
   "nbconvert_exporter": "python",
   "pygments_lexer": "ipython3",
   "version": "3.8.3"
  }
 },
 "nbformat": 4,
 "nbformat_minor": 4
}
