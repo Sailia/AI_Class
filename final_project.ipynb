{
 "cells": [
  {
   "cell_type": "code",
   "execution_count": null,
   "metadata": {},
   "outputs": [],
   "source": [
    "'''\n",
    "The goal of this program is to predict whether a student will get good or bad grades based on their attributes. \n",
    "These attributes are the column names in the given csv data and are as follows: \n",
    "\n",
    "gender \n",
    "race/ethnicity \n",
    "parental level of education\n",
    "lunch\n",
    "test preparation course\n",
    "\n",
    "The grades are based on the following:\n",
    "\n",
    "math score \n",
    "reading score\n",
    "writing score\n",
    "\n",
    "The data is named Student Performance in Exams from the website Kaggle. \n",
    "The data can be downloaded here: https://www.kaggle.com/spscientist/students-performance-in-exams\n",
    "'''"
   ]
  },
  {
   "cell_type": "code",
   "execution_count": 589,
   "metadata": {},
   "outputs": [],
   "source": [
    "# Temporary global variable\n",
    "\n",
    "above_avg_observations = {'female': 0, 'male': 0, 'group A': 0, 'group B':0, 'group C':0, 'group D': 0, 'group E': 0, \"master's degree\": 0, \"bachelor's degree\": 0, \"associate's degree\": 0, \"some college\": 0, \"high school\": 0, \"some high school\": 0, 'standard': 0, \"free/reduced\": 0, 'none': 0, 'completed': 0}\n",
    "below_avg_observations = {'female': 0, 'male': 0, 'group A': 0, 'group B':0, 'group C':0, 'group D': 0, 'group E': 0, \"master's degree\": 0, \"bachelor's degree\": 0, \"associate's degree\": 0, \"some college\": 0, \"high school\": 0, \"some high school\": 0, 'standard': 0, \"free/reduced\": 0, 'none': 0, 'completed': 0}\n",
    "\n",
    "above_avg_probabilities = {'female': 0, 'male': 0, 'group A': 0, 'group B':0, 'group C':0, 'group D': 0, 'group E': 0, \"master's degree\": 0, \"bachelor's degree\": 0, \"associate's degree\": 0, \"some college\": 0, \"high school\": 0, \"some high school\": 0, 'standard': 0, \"free/reduced\": 0, 'none': 0, 'completed': 0}\n",
    "below_avg_probabilities = {'female': 0, 'male': 0, 'group A': 0, 'group B':0, 'group C':0, 'group D': 0, 'group E': 0, \"master's degree\": 0, \"bachelor's degree\": 0, \"associate's degree\": 0, \"some college\": 0, \"high school\": 0, \"some high school\": 0, 'standard': 0, \"free/reduced\": 0, 'none': 0, 'completed': 0}\n",
    "\n",
    "index_selection = {'2': 'female', '3':'male', '4':'group A', '5':'group B', '6':'group C', '7':'group D', '8':'group E', '9':\"master's degree\", '10':\"bachelor's degree\", '11':\"associate's degree\", '12':\"some college\", '13':\"high school\", '14':\"some high school\", '15':'standard', '16':\"free/reduced\", '17':'none', '18':'completed'}"
   ]
  },
  {
   "cell_type": "code",
   "execution_count": 590,
   "metadata": {},
   "outputs": [
    {
     "name": "stdout",
     "output_type": "stream",
     "text": [
      "Please enter 0 for above average or 1 for below average1\n",
      "Enter 2 for female, 3 for male or 'S' to skip2\n",
      "Enter 4 for group A, 5 for group B, 6 for group C, 7 for group D, 8 for group E or 'S' to skip5\n",
      "Enter 9 for master's degree, 10 for bachelor's degree, 11 for associate's degree, 12 for some college, 13 for high school, 14 some high school or 'S' to skipS\n",
      "Enter 15 for free/reduced lunch, 16 for standard lunch or 'S' to skip15\n",
      "Enter 17 for no test preparation course, 18 for completed test preparation course or 'S' to skipS\n",
      "The probability is 0.06687316610207696\n"
     ]
    }
   ],
   "source": [
    "# Here we open the csv file and read from it as a dictionary. While reading it in, \n",
    "# we are also gathering the minimum and maximum math score, and the average math score\n",
    "\n",
    "import csv\n",
    "import statistics as std\n",
    "import re\n",
    "\n",
    "with open('StudentsPerformance.csv', 'r') as file:\n",
    "    csv_dict = csv.DictReader(file)\n",
    "    total_math_scores = 0\n",
    "    math_score_list = []\n",
    "    avg_prob = 0\n",
    "    total_above_average = 0\n",
    "    total_below_average = 0\n",
    "    score = 0\n",
    "    user_choices = []\n",
    "    \n",
    "    for row in csv_dict:\n",
    "        math_score = int(row['math score'])\n",
    "        math_score_list = append_math_score(row, math_score_list)\n",
    "        total_math_scores += math_score  # get the total math score for calculating the mean\n",
    "    \n",
    "    mean_of_math_scores = total_math_scores / len(math_score_list) # get the average math score    \n",
    "    \n",
    "    file.seek(0) # start at the beginning of the csv_dict file\n",
    "    next(csv_dict) # and skip the header\n",
    "    \n",
    "    for row in csv_dict: \n",
    "        total_above_average += count_above_avg(row, mean_of_math_scores)\n",
    "        total_below_average += count_below_avg(row, mean_of_math_scores)\n",
    "    \n",
    "    file.seek(0) # start at the beginning of the csv_dict file\n",
    "    next(csv_dict) # and skip the header\n",
    "    \n",
    "    for row in csv_dict: \n",
    "        x_given_above_avg(row, mean_of_math_scores)   \n",
    "        x_given_below_avg(row, mean_of_math_scores)\n",
    "        \n",
    "calculate_probability_of_above_avg(total_above_average) # calculate probability for each occurences of p(x | given above average) by dividing by the average of above average math scores\n",
    "calculate_probability_of_below_avg(total_below_average)\n",
    "\n",
    "print(\"The probability is \" + str(probability_given_user_input(int(user_input_score()), user_input(user_choices))))"
   ]
  },
  {
   "cell_type": "code",
   "execution_count": 527,
   "metadata": {},
   "outputs": [],
   "source": [
    "def user_input_score():\n",
    "    score = input(\"Please enter 0 for above average or 1 for below average\")\n",
    "    return score"
   ]
  },
  {
   "cell_type": "code",
   "execution_count": 528,
   "metadata": {
    "scrolled": true
   },
   "outputs": [],
   "source": [
    "# get user input of constraints\n",
    "\n",
    "def user_input(user_choices): \n",
    "    \n",
    "    gender = input(\"Enter 2 for female, 3 for male or 'S' to skip\")\n",
    "    group = input(\"Enter 4 for group A, 5 for group B, 6 for group C, 7 for group D, 8 for group E or 'S' to skip\")\n",
    "    parent_ed = input(\"Enter 9 for master's degree, 10 for bachelor's degree, 11 for associate's degree, 12 for some college, 13 for high school, 14 some high school or 'S' to skip\")\n",
    "    lunch = input(\"Enter 15 for free/reduced lunch, 16 for standard lunch or 'S' to skip\")\n",
    "    test_prep = input(\"Enter 17 for no test preparation course, 18 for completed test preparation course or 'S' to skip\")\n",
    "    user_choices.extend([gender, group, parent_ed, lunch, test_prep])\n",
    "    \n",
    "    return user_choices\n",
    "\n",
    "        \n",
    "\n",
    "    "
   ]
  },
  {
   "cell_type": "code",
   "execution_count": 584,
   "metadata": {},
   "outputs": [],
   "source": [
    "def probability_given_user_input(score, user_choices):   \n",
    "    probability = None\n",
    "    convert_number_responses = []\n",
    "    \n",
    "#     if(user_choices[0].isnumeric()):\n",
    "#         probability = float(user_choices[0])\n",
    "#         choices = iter(user_choices)\n",
    "#         next(choices, None)\n",
    "#     else:\n",
    "#         choices = iter(user_choices)\n",
    "        \n",
    "    for choice in user_choices:\n",
    "        if(choice.isnumeric()):\n",
    "            convert_number_responses.append(index_selection[choice])\n",
    "    \n",
    "    if(score == 0):\n",
    "        for choice in convert_number_responses:\n",
    "            if probability is None:\n",
    "                probability = float(above_avg_probabilities[choice])\n",
    "            else:\n",
    "                probability *= float(above_avg_probabilities[choice])\n",
    "    else:\n",
    "        for choice in convert_number_responses:\n",
    "            if probability is None:\n",
    "                probability = float(below_avg_probabilities[choice])\n",
    "            else:\n",
    "                probability *= float(below_avg_probabilities[choice])\n",
    "    return probability\n"
   ]
  },
  {
   "cell_type": "code",
   "execution_count": 530,
   "metadata": {},
   "outputs": [],
   "source": [
    "def calculate_probability_of_below_avg(total_below_average):\n",
    "    for x in below_avg_observations:\n",
    "        val = below_avg_observations[x]\n",
    "        below_avg_probabilities[x] = float(val / total_below_average)"
   ]
  },
  {
   "cell_type": "code",
   "execution_count": 531,
   "metadata": {},
   "outputs": [],
   "source": [
    "def x_given_below_avg(row, mean_of_math_scores):\n",
    "    for x in row:\n",
    "        if(below_average(row, mean_of_math_scores)):\n",
    "            if(x != 'math score' and x != 'reading score' and x != 'writing score'):\n",
    "                below_avg_observations[row[x]] += 1 "
   ]
  },
  {
   "cell_type": "code",
   "execution_count": 532,
   "metadata": {},
   "outputs": [],
   "source": [
    "def count_below_avg(row, mean_of_math_scores):\n",
    "    if(below_average(row, mean_of_math_scores)):\n",
    "        return 1\n",
    "    return 0"
   ]
  },
  {
   "cell_type": "code",
   "execution_count": 533,
   "metadata": {},
   "outputs": [],
   "source": [
    "# calculates the percent of above average math scores\n",
    "\n",
    "def count_above_avg(row, mean_of_math_scores):  \n",
    "    if(above_average(row, mean_of_math_scores)):\n",
    "        return 1\n",
    "    return 0"
   ]
  },
  {
   "cell_type": "code",
   "execution_count": 534,
   "metadata": {},
   "outputs": [],
   "source": [
    "# count all occurences of x given above average\n",
    "\n",
    "def x_given_above_avg(row, mean_of_math_scores):\n",
    "    for x in row:\n",
    "        if(above_average(row, mean_of_math_scores)):\n",
    "            if(x != 'math score' and x != 'reading score' and x != 'writing score'):\n",
    "                above_avg_observations[row[x]] += 1  "
   ]
  },
  {
   "cell_type": "code",
   "execution_count": 535,
   "metadata": {},
   "outputs": [],
   "source": [
    "# calculate probability for each occurences of p(x | given above average) by dividing by the average of above average math scores\n",
    "\n",
    "def calculate_probability_of_above_avg(total_above_average):\n",
    "    for x in above_avg_observations:\n",
    "        val = above_avg_observations[x]\n",
    "        above_avg_probabilities[x] = float(val / total_above_average)"
   ]
  },
  {
   "cell_type": "code",
   "execution_count": 537,
   "metadata": {},
   "outputs": [],
   "source": [
    "# generate math score list for the standard deviation method\n",
    "\n",
    "def append_math_score(row, score_list):\n",
    "    math_score = int(row['math score'])\n",
    "    score_list.append(math_score)\n",
    "    return score_list"
   ]
  },
  {
   "cell_type": "code",
   "execution_count": 538,
   "metadata": {},
   "outputs": [],
   "source": [
    "# return standard deviation of math scores\n",
    "\n",
    "def standard_deviation(scores):\n",
    "    stan = std.stdev(scores)\n",
    "    return stan"
   ]
  },
  {
   "cell_type": "code",
   "execution_count": 539,
   "metadata": {},
   "outputs": [],
   "source": [
    "# Returns true if the row's math score is higher than the average math score\n",
    "\n",
    "def above_average(row, mean_of_math_scores):\n",
    "    above = float(row['math score'])\n",
    "    return above >= mean"
   ]
  },
  {
   "cell_type": "code",
   "execution_count": 540,
   "metadata": {},
   "outputs": [],
   "source": [
    "def below_average(row, mean_of_math_scores):\n",
    "    below = int(row['math score'])\n",
    "    return below < mean"
   ]
  },
  {
   "cell_type": "code",
   "execution_count": null,
   "metadata": {},
   "outputs": [],
   "source": []
  },
  {
   "cell_type": "code",
   "execution_count": null,
   "metadata": {},
   "outputs": [],
   "source": []
  }
 ],
 "metadata": {
  "kernelspec": {
   "display_name": "Python 3",
   "language": "python",
   "name": "python3"
  },
  "language_info": {
   "codemirror_mode": {
    "name": "ipython",
    "version": 3
   },
   "file_extension": ".py",
   "mimetype": "text/x-python",
   "name": "python",
   "nbconvert_exporter": "python",
   "pygments_lexer": "ipython3",
   "version": "3.8.3"
  }
 },
 "nbformat": 4,
 "nbformat_minor": 4
}
